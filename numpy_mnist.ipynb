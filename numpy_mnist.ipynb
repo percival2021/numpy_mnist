{
 "cells": [
  {
   "cell_type": "code",
   "execution_count": 1,
   "id": "dfbddd53",
   "metadata": {},
   "outputs": [],
   "source": [
    "import numpy as np\n",
    "import package\n",
    "import package.optim as optim\n",
    "import os\n",
    "import sys"
   ]
  },
  {
   "cell_type": "code",
   "execution_count": 2,
   "id": "035ab898",
   "metadata": {},
   "outputs": [],
   "source": [
    "import matplotlib.pyplot as plt\n",
    "%matplotlib inline\n",
    "\n",
    "plt.rcParams['font.sans-serif']=['Simhei'] #用来正常显示中文标签\n",
    "plt.rcParams['axes.unicode_minus']=False #用来正常显示负号"
   ]
  },
  {
   "cell_type": "markdown",
   "id": "50e9d2d1",
   "metadata": {},
   "source": [
    "## 1.定义参数存储函数"
   ]
  },
  {
   "cell_type": "code",
   "execution_count": 3,
   "id": "7f2778e0",
   "metadata": {},
   "outputs": [],
   "source": [
    "def save(parameters, save_as):\n",
    "    dic = {}\n",
    "    for i in range(len(parameters)):\n",
    "        dic[str(i)] = parameters[i].data\n",
    "    np.savez(save_as, **dic)\n"
   ]
  },
  {
   "cell_type": "markdown",
   "id": "4b4fba76",
   "metadata": {},
   "source": [
    "## 2.读取MNIST数据集"
   ]
  },
  {
   "cell_type": "code",
   "execution_count": 4,
   "id": "b74e474a",
   "metadata": {},
   "outputs": [],
   "source": [
    "def load_MNIST(file, transform=False):\n",
    "    file = np.load(file)\n",
    "    X = file['X']\n",
    "    Y = file['Y']\n",
    "    if transform:\n",
    "        X = X.reshape(len(X), -1)\n",
    "    return X, Y"
   ]
  },
  {
   "cell_type": "code",
   "execution_count": 5,
   "id": "f7ca1dc5",
   "metadata": {},
   "outputs": [],
   "source": [
    "train_file = './MNIST/trainset.npz'\n",
    "X_train, Y_train = load_MNIST(train_file, transform=True)"
   ]
  },
  {
   "cell_type": "code",
   "execution_count": 6,
   "id": "dabc8f54",
   "metadata": {},
   "outputs": [],
   "source": [
    "test_file = './MNIST/testset.npz'\n",
    "X_test, Y_test = load_MNIST(test_file, transform=True)"
   ]
  },
  {
   "cell_type": "code",
   "execution_count": 7,
   "id": "08ed398c",
   "metadata": {},
   "outputs": [],
   "source": [
    "#输入向量处理\n",
    "X_train = X_train/255\n",
    "X_test = X_test/255\n",
    "#输出向量处理\n",
    "#one-hot转为标签\n",
    "#np.where(arry)：输出arry中真值的坐标\n",
    "Y_test_value = np.where(Y_test)[1]\n",
    "Y_train_value = np.where(Y_train)[1]"
   ]
  },
  {
   "cell_type": "code",
   "execution_count": 8,
   "id": "4eb87589",
   "metadata": {},
   "outputs": [],
   "source": [
    "#测试集验证集划分\n",
    "valid_size = 0.2\n",
    "num_train = X_train.shape[0]\n",
    "indices = list(range(num_train))\n",
    "np.random.shuffle(indices)\n",
    "split = int(np.floor(valid_size*num_train))\n",
    "train_idx,valid_idx = indices[split:],indices[:split]"
   ]
  },
  {
   "cell_type": "code",
   "execution_count": 9,
   "id": "57cb0d3d",
   "metadata": {},
   "outputs": [
    {
     "data": {
      "text/plain": [
       "(48000, 784)"
      ]
     },
     "execution_count": 9,
     "metadata": {},
     "output_type": "execute_result"
    }
   ],
   "source": [
    "X_train[train_idx,].shape"
   ]
  },
  {
   "cell_type": "markdown",
   "id": "425951e4",
   "metadata": {},
   "source": [
    "## 3.训练模型"
   ]
  },
  {
   "cell_type": "markdown",
   "id": "2060dd30",
   "metadata": {},
   "source": [
    "### 3.1 超参数搜索"
   ]
  },
  {
   "cell_type": "code",
   "execution_count": 10,
   "id": "3b311b3e",
   "metadata": {},
   "outputs": [],
   "source": [
    "#超参数搜索时训练函数\n",
    "def trainSearch(X,Y,net,loss_fn,reg,batch_size,save_as,epochs=1):\n",
    "    data_size = X.shape[0]\n",
    "    for loop in range(epochs):\n",
    "        i = 0\n",
    "        lr_i = lr*1.0/(1.0+decay*i)\n",
    "        optimizer = optim.SGD(net.parameters, lr_i,decay=reg)\n",
    "        while i <= data_size - batch_size:\n",
    "            x = X[i:i+batch_size]\n",
    "            y = Y[i:i+batch_size]\n",
    "            i += batch_size\n",
    "            \n",
    "            output = net.forward(x)\n",
    "            batch_acc, batch_loss = loss_fn(output, y)\n",
    "            eta = loss_fn.gradient()\n",
    "            net.backward(eta)\n",
    "            optimizer.update()            \n",
    "        pass\n",
    "    if save_as is not None: save(net.parameters, save_as)"
   ]
  },
  {
   "cell_type": "code",
   "execution_count": 11,
   "id": "9f2aa150",
   "metadata": {},
   "outputs": [],
   "source": [
    "#超参数搜索\n",
    "learning_rates = [0.01,0.1]\n",
    "reg_strengths = [0.001,0.01]\n",
    "hidden_sizes = [200,300]\n",
    "batch_size = 100\n",
    "decay = 0.01\n",
    "loss_fn = package.CrossEntropyLoss()\n",
    "param_file = './MNIST/param.npz'\n"
   ]
  },
  {
   "cell_type": "code",
   "execution_count": 12,
   "id": "6194635b",
   "metadata": {},
   "outputs": [],
   "source": [
    "hyper_param = {'lr':0,'reg':0,'hs':0}\n",
    "acc= 0\n",
    "for lr in learning_rates:\n",
    "    for reg in reg_strengths:\n",
    "        for hs in hidden_sizes:\n",
    "            layers = [{'type': 'linear', 'shape': (784, hs)},{'type': 'relu'},{'type': 'linear', 'shape': (hs, 10)}]\n",
    "            net = package.Net(layers)\n",
    "            lr = lr\n",
    "            reg = reg\n",
    "            trainSearch(X_train,Y_train,net,loss_fn,reg,batch_size,save_as=None,epochs=3)\n",
    "            result1 = np.argmax(net.forward(X_train),axis=1)\n",
    "            precision = np.sum(result1==Y_train_value) / 60000\n",
    "            if precision> acc:\n",
    "                acc = precision\n",
    "                hyper_param['lr'] = lr\n",
    "                hyper_param['reg'] = reg\n",
    "                hyper_param['hs'] = hs\n",
    "\n",
    "            "
   ]
  },
  {
   "cell_type": "code",
   "execution_count": 13,
   "id": "4bdc55c9",
   "metadata": {},
   "outputs": [
    {
     "name": "stdout",
     "output_type": "stream",
     "text": [
      "{'lr': 0.1, 'reg': 0.001, 'hs': 300} 0.92535\n"
     ]
    }
   ],
   "source": [
    "print(hyper_param,acc)"
   ]
  },
  {
   "cell_type": "markdown",
   "id": "90cdfa58",
   "metadata": {},
   "source": [
    "### 3.2 给定参数进行模型训练"
   ]
  },
  {
   "cell_type": "code",
   "execution_count": 14,
   "id": "1e93bb85",
   "metadata": {},
   "outputs": [],
   "source": [
    "#给定参数\n",
    "layers = [\n",
    "    {'type': 'linear', 'shape': (784, 300)},\n",
    "    {'type': 'relu'},\n",
    "    {'type': 'linear', 'shape': (300, 10)}\n",
    "]\n",
    "lr = 0.1\n",
    "reg = 0.001\n",
    "decay = 0.01\n",
    "batch_size = 100\n",
    "loss_fn = package.CrossEntropyLoss()\n",
    "net = package.Net(layers)\n",
    "#optimizer = optim.SGD(net.parameters, lr)\n",
    "param_file = './MNIST/param.npz'"
   ]
  },
  {
   "cell_type": "code",
   "execution_count": 15,
   "id": "abc1f9b7",
   "metadata": {},
   "outputs": [],
   "source": [
    "#训练函数\n",
    "def train(X,Y,net,loss_fn,reg,batch_size,save_as,epochs=1):\n",
    "    data_size = X.shape[0]\n",
    "    train_size = X[train_idx,].shape[0]\n",
    "    valid_size = X[valid_idx,].shape[0]\n",
    "    train_batch_num = train_size/batch_size\n",
    "    valid_batch_num = valid_size/batch_size\n",
    "     #初始化训练损失和验证损失\n",
    "    train_loss_list = []\n",
    "    train_acc_list = []\n",
    "    valid_loss_list = []\n",
    "    valid_acc_list = []\n",
    "    for loop in range(epochs):\n",
    "        #学习率衰减\n",
    "        lr_i = lr*1.0/(1.0+decay*loop)\n",
    "        optimizer = optim.SGD(net.parameters, lr_i,decay=reg)\n",
    "        \n",
    "        i = 0\n",
    "        j = 0\n",
    "        #训练阶段\n",
    "        train_acc = 0\n",
    "        train_loss = 0\n",
    "        while i <= train_size - batch_size:\n",
    "            x = X[train_idx,][i:i+batch_size]\n",
    "            y = Y[train_idx,][i:i+batch_size]\n",
    "            i += batch_size\n",
    "            \n",
    "            output = net.forward(x)\n",
    "            batch_acc, batch_loss = loss_fn(output, y)\n",
    "            train_acc += batch_acc\n",
    "            train_loss += batch_loss\n",
    "            eta = loss_fn.gradient()\n",
    "            net.backward(eta)\n",
    "            optimizer.update()\n",
    "            if i == train_size - batch_size:\n",
    "                train_acc_list.append(train_acc/train_batch_num)\n",
    "                train_loss_list.append(train_loss/train_batch_num)\n",
    "                print(\"loop: %d, train acc: %.3f, train loss: %.3f\" % \\\n",
    "                    (loop+1, (train_acc/(train_batch_num-1)), train_loss/(train_batch_num-1)))\n",
    "        #验证阶段\n",
    "        valid_acc = 0\n",
    "        valid_loss = 0\n",
    "        while j <= valid_size-batch_size:\n",
    "            x = X[valid_idx,][j:j+batch_size]\n",
    "            y = Y[valid_idx,][j:j+batch_size]\n",
    "            j += batch_size\n",
    "            \n",
    "            output = net.forward(x)\n",
    "            batch_acc, batch_loss = loss_fn(output, y)\n",
    "            valid_acc += batch_acc\n",
    "            valid_loss += batch_loss\n",
    "            if j == valid_size-batch_size:\n",
    "                valid_acc_list.append(valid_acc/valid_batch_num)\n",
    "                valid_loss_list.append(valid_loss/valid_batch_num)\n",
    "                print(\"loop: %d, valid acc: %.3f, valid loss: %.3f\" % \\\n",
    "                    (loop+1, (valid_acc/(valid_batch_num-1)), valid_loss/(valid_batch_num-1)))                \n",
    "                    \n",
    "        pass\n",
    "    return train_loss_list,train_acc_list,valid_loss_list,valid_acc_list\n",
    "    if save_as is not None: save(net.parameters, save_as)"
   ]
  },
  {
   "cell_type": "code",
   "execution_count": 16,
   "id": "5b9b93cc",
   "metadata": {},
   "outputs": [
    {
     "name": "stdout",
     "output_type": "stream",
     "text": [
      "loop: 1, train acc: 0.879, train loss: 0.446\n",
      "loop: 1, valid acc: 0.919, valid loss: 0.319\n",
      "loop: 2, train acc: 0.920, train loss: 0.313\n",
      "loop: 2, valid acc: 0.926, valid loss: 0.298\n",
      "loop: 3, train acc: 0.926, train loss: 0.298\n",
      "loop: 3, valid acc: 0.929, valid loss: 0.290\n",
      "loop: 4, train acc: 0.929, train loss: 0.290\n",
      "loop: 4, valid acc: 0.931, valid loss: 0.285\n",
      "loop: 5, train acc: 0.931, train loss: 0.285\n",
      "loop: 5, valid acc: 0.933, valid loss: 0.281\n",
      "loop: 6, train acc: 0.932, train loss: 0.282\n",
      "loop: 6, valid acc: 0.934, valid loss: 0.279\n",
      "loop: 7, train acc: 0.933, train loss: 0.280\n",
      "loop: 7, valid acc: 0.934, valid loss: 0.278\n",
      "loop: 8, train acc: 0.933, train loss: 0.279\n",
      "loop: 8, valid acc: 0.935, valid loss: 0.277\n",
      "loop: 9, train acc: 0.934, train loss: 0.278\n",
      "loop: 9, valid acc: 0.935, valid loss: 0.276\n",
      "loop: 10, train acc: 0.934, train loss: 0.277\n",
      "loop: 10, valid acc: 0.936, valid loss: 0.276\n"
     ]
    }
   ],
   "source": [
    "#模型训练\n",
    "train_loss_list,train_acc_list,valid_loss_list,valid_acc_list=train(X_train,Y_train,net,loss_fn,reg,batch_size,save_as=param_file,epochs=10)\n"
   ]
  },
  {
   "cell_type": "markdown",
   "id": "8e1aa125",
   "metadata": {},
   "source": [
    "### 3.3 训练集与验证集可视化"
   ]
  },
  {
   "cell_type": "markdown",
   "id": "156e8f4c",
   "metadata": {},
   "source": [
    "+ 误差可视化"
   ]
  },
  {
   "cell_type": "code",
   "execution_count": 18,
   "id": "f9ebf85c",
   "metadata": {},
   "outputs": [
    {
     "data": {
      "image/png": "[encoded data removed]",
      "text/plain": [
       "<Figure size 432x288 with 1 Axes>"
      ]
     },
     "metadata": {
      "needs_background": "light"
     },
     "output_type": "display_data"
    }
   ],
   "source": [
    "plt.plot(train_loss_list,label='train loss')\n",
    "plt.plot(valid_loss_list,label='valid loss')\n",
    "plt.legend()\n",
    "plt.title('Loss Curve')\n",
    "plt.show()"
   ]
  },
  {
   "cell_type": "markdown",
   "id": "9440d617",
   "metadata": {},
   "source": [
    "+ 验证集准确率可视化"
   ]
  },
  {
   "cell_type": "code",
   "execution_count": 19,
   "id": "e30860bf",
   "metadata": {},
   "outputs": [
    {
     "data": {
      "image/png": "[encoded data removed]",
      "text/plain": [
       "<Figure size 432x288 with 1 Axes>"
      ]
     },
     "metadata": {
      "needs_background": "light"
     },
     "output_type": "display_data"
    }
   ],
   "source": [
    "plt.plot(valid_acc_list,label='valid accuracy',c='r')\n",
    "plt.title('Accuracy Curve')\n",
    "plt.show()"
   ]
  },
  {
   "cell_type": "markdown",
   "id": "e5925a4c",
   "metadata": {},
   "source": [
    "## 4.测试模型"
   ]
  },
  {
   "cell_type": "code",
   "execution_count": 20,
   "id": "f47a780e",
   "metadata": {},
   "outputs": [],
   "source": [
    "params = np.load(param_file)"
   ]
  },
  {
   "cell_type": "code",
   "execution_count": 21,
   "id": "acc1c48d",
   "metadata": {},
   "outputs": [],
   "source": [
    "test_nn = net"
   ]
  },
  {
   "cell_type": "code",
   "execution_count": 22,
   "id": "70f1ed9f",
   "metadata": {},
   "outputs": [],
   "source": [
    "for i in range(4):   \n",
    "    test_nn.parameters[i].data = params[str(i)] "
   ]
  },
  {
   "cell_type": "code",
   "execution_count": 23,
   "id": "115adc32",
   "metadata": {},
   "outputs": [],
   "source": [
    "result = test_nn.forward(X_test)"
   ]
  },
  {
   "cell_type": "code",
   "execution_count": 24,
   "id": "f13a466d",
   "metadata": {},
   "outputs": [],
   "source": [
    "result = np.argmax(result, axis=1)"
   ]
  },
  {
   "cell_type": "code",
   "execution_count": 26,
   "id": "24667fe8",
   "metadata": {},
   "outputs": [
    {
     "name": "stdout",
     "output_type": "stream",
     "text": [
      "Precison: 0.9323\n"
     ]
    }
   ],
   "source": [
    "precision = np.sum(result==Y_test_value) / X_test.shape[0]\n",
    "print(\"Precison:\", precision)"
   ]
  },
  {
   "cell_type": "code",
   "execution_count": null,
   "id": "82a752cc",
   "metadata": {},
   "outputs": [],
   "source": []
  }
 ],
 "metadata": {
  "kernelspec": {
   "display_name": "Python 3 (ipykernel)",
   "language": "python",
   "name": "python3"
  },
  "language_info": {
   "codemirror_mode": {
    "name": "ipython",
    "version": 3
   },
   "file_extension": ".py",
   "mimetype": "text/x-python",
   "name": "python",
   "nbconvert_exporter": "python",
   "pygments_lexer": "ipython3",
   "version": "3.7.11"
  }
 },
 "nbformat": 4,
 "nbformat_minor": 5
}
